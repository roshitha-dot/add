{
 "cells": [
  {
   "cell_type": "code",
   "execution_count": 4,
   "id": "0fd55bc4-05cd-480b-be62-d7f2b5d892d0",
   "metadata": {},
   "outputs": [],
   "source": [
    "class Addition:\n",
    "    def __init__(self,x,y,z):\n",
    "        self.num1=x\n",
    "        self.num2=y\n",
    "        self.num3=z\n",
    "        \n",
    "    def result(self):\n",
    "        self.num=self.num1+self.num2+self.num3\n",
    "        print('Output:',self.num)"
   ]
  },
  {
   "cell_type": "code",
   "execution_count": null,
   "id": "cb88aa1b-74ea-486d-902c-b4c3bc455eea",
   "metadata": {},
   "outputs": [],
   "source": [
    "x = int(input(\"Enter 1st Number\"))\n",
    "y = int(input(\"Enter 2nd Number\"))\n",
    "z = int(input(\"Enter 3rd Number\"))\n",
    "Sum = Addition(x,y,z)\n",
    "Sum.result()"
   ]
  },
  {
   "cell_type": "code",
   "execution_count": null,
   "id": "a371c051-faa4-4fc3-b7c8-ed9a47303ce0",
   "metadata": {},
   "outputs": [],
   "source": []
  }
 ],
 "metadata": {
  "kernelspec": {
   "display_name": "Python 3 (ipykernel)",
   "language": "python",
   "name": "python3"
  },
  "language_info": {
   "codemirror_mode": {
    "name": "ipython",
    "version": 3
   },
   "file_extension": ".py",
   "mimetype": "text/x-python",
   "name": "python",
   "nbconvert_exporter": "python",
   "pygments_lexer": "ipython3",
   "version": "3.12.4"
  }
 },
 "nbformat": 4,
 "nbformat_minor": 5
}
